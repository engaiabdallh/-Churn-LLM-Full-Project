{
 "cells": [
  {
   "attachments": {},
   "cell_type": "markdown",
   "metadata": {},
   "source": [
    "* `Import Libraries`"
   ]
  },
  {
   "cell_type": "code",
   "execution_count": null,
   "metadata": {},
   "outputs": [],
   "source": [
    "from transformers import AutoTokenizer, AutoModelForCausalLM, BitsAndBytesConfig\n",
    "from huggingface_hub import login\n",
    "import torch\n",
    "from pydantic import BaseModel, Field\n",
    "import json\n",
    "import re\n",
    "from dotenv import load_dotenv\n",
    "import os\n",
    "import numpy as np\n",
    "from typing import Literal"
   ]
  },
  {
   "cell_type": "code",
   "execution_count": null,
   "metadata": {},
   "outputs": [],
   "source": [
    "## Load the HF key token and log to HuggingFace\n",
    "_ = load_dotenv(override=True)\n",
    "hf_token = os.getenv('HF_KEY_TOKEN')\n",
    "_ = login(token=hf_token)"
   ]
  },
  {
   "attachments": {},
   "cell_type": "markdown",
   "metadata": {},
   "source": [
    "* `Pydantic Required Response`"
   ]
  },
  {
   "cell_type": "code",
   "execution_count": null,
   "metadata": {},
   "outputs": [],
   "source": [
    "class CustomerData(BaseModel):\n",
    "    CreditScore: float = Field(..., description='Credit score of the customer')\n",
    "    Geography: str = Field(..., description='Geography')\n",
    "    Gender: str = Field(..., description='Gender')\n",
    "    Age: int = Field(..., description='Age of the customer')\n",
    "    Tenure: int = Field(..., description='Number of years the customer has been with the bank')\n",
    "    Balance: float = Field(..., description='Account balance')\n",
    "    NumOfProducts: int = Field(..., description='Number of products the customer has')\n",
    "    HasCrCard: bool = Field(..., description='Does the customer have a credit card (True for yes, False for no)')\n",
    "    IsActiveMember: bool = Field(..., description='Is the customer an active member (True for yes, False for no)')\n",
    "    EstimatedSalary: float = Field(..., description='Estimated salary of the customer')"
   ]
  },
  {
   "attachments": {},
   "cell_type": "markdown",
   "metadata": {},
   "source": [
    "* `Using Google Gemma Model 2B`"
   ]
  },
  {
   "cell_type": "code",
   "execution_count": null,
   "metadata": {},
   "outputs": [],
   "source": [
    "## Check for CPU availability (this will always be true)\n",
    "device = 'cuda' if torch.cuda.is_available() else 'cpu'\n",
    "print(f'Using device: {device}')\n",
    "\n",
    "## Load tokenizer and model\n",
    "tokenizer = AutoTokenizer.from_pretrained('google/gemma-1.1-2b-it')\n",
    "model = AutoModelForCausalLM.from_pretrained('google/gemma-1.1-2b-it')\n",
    "model.to(device)"
   ]
  },
  {
   "cell_type": "code",
   "execution_count": null,
   "metadata": {},
   "outputs": [],
   "source": [
    "def generate_prompt(text: str) -> str:\n",
    "    return f\"\"\"\n",
    "    Extract the following fields from the text and provide them in JSON format: CreditScore, Geography, Gender, Age, Tenure, Balance, NumOfProducts, HasCrCard, IsActiveMember, EstimatedSalary.\n",
    "\n",
    "    Example:\n",
    "    Text: \"Jane Smith is a 35-year-old female from Canada with a credit score of 650. She has been with the bank for 3 years, has a balance of 2000.0 USD, holds 1 product, owns a credit card, is an active member, and earns an estimated salary of 75000.0 USD.\"\n",
    "    JSON: {{\n",
    "        \"CreditScore\": 650,\n",
    "        \"Geography\": \"Canada\",\n",
    "        \"Gender\": \"Female\",\n",
    "        \"Age\": 35,\n",
    "        \"Tenure\": 3,\n",
    "        \"Balance\": 2000.0,\n",
    "        \"NumOfProducts\": 1,\n",
    "        \"HasCrCard\": true,\n",
    "        \"IsActiveMember\": true,\n",
    "        \"EstimatedSalary\": 75000.0\n",
    "    }}\n",
    "\n",
    "    Text: \"{text}\"\n",
    "    JSON:\n",
    "    \"\"\""
   ]
  },
  {
   "cell_type": "code",
   "execution_count": null,
   "metadata": {},
   "outputs": [],
   "source": [
    "def extract_last_json_from_output(output: str) -> str:\n",
    "    ## Use regex to find all JSON parts of the output\n",
    "    json_matches = re.findall(r'\\{.*?\\}', output, re.DOTALL)\n",
    "    if json_matches:\n",
    "        ## Return the last JSON match\n",
    "        return json_matches[-1]\n",
    "    return None\n",
    "\n",
    "\n",
    "def post_process_customer_data(data: CustomerData) -> CustomerData:\n",
    "    ## Capitalize the first letter of the Gender field\n",
    "    data.Gender = data.Gender.capitalize()\n",
    "    ## Capitalize the first letter of the Geography field\n",
    "    data.Geography = data.Geography.title()\n",
    "\n",
    "    \n",
    "    ## Convert HasCrCard and IsActiveMember to int (0 or 1)\n",
    "    data.HasCrCard = int(data.HasCrCard)\n",
    "    data.IsActiveMember = int(data.IsActiveMember)\n",
    "\n",
    "    ## Some Validation\n",
    "    if data.NumOfProducts not in [1, 2, 3, 4]:\n",
    "        raise ValueError(f\"NumOfProducts must be 1 or 2 or 3 or 4, got {data.NumOfProducts}\")\n",
    "    \n",
    "    if data.Geography not in ['Spain', 'Germany', 'France']:\n",
    "        raise ValueError(f\"Geography must be Spain or Germany or France, got {data.Geography}\")\n",
    "\n",
    "    if data.Gender not in ['Male', 'Female']:\n",
    "        raise ValueError(f\"Gender must be Male of Female, got {data.Gender}\")\n",
    "\n",
    "    if data.Tenure not in np.arange(11).tolist():\n",
    "        raise ValueError(f\"Tenure must be in [0-10] range, got {data.Gender}\")\n",
    "\n",
    "    if data.HasCrCard not in [0, 1]: \n",
    "        raise ValueError(f\"HasCrCard must be 0 or 1 range, got {data.HasCrCard}\")\n",
    "\n",
    "    if data.IsActiveMember not in [0, 1]: \n",
    "        raise ValueError(f\"IsActiveMember must be 0 or 1 range, got {data.IsActiveMember}\")\n",
    "\n",
    "\n",
    "    return data\n",
    "\n",
    "\n",
    "def extract_features(text: str):\n",
    "\n",
    "    ## Conversation with model\n",
    "    prompt = generate_prompt(text)\n",
    "    inputs = tokenizer(prompt, return_tensors=\"pt\", max_length=512, truncation=True).to(device)\n",
    "    outputs = model.generate(**inputs, max_length=512)\n",
    "    result_text = tokenizer.decode(outputs[0], skip_special_tokens=True)\n",
    "\n",
    "\n",
    "    ## Call (extract_last_json_from_output) function --> extracting the last JSON from output\n",
    "    json_text = extract_last_json_from_output(result_text)\n",
    "    if json_text:\n",
    "        try:\n",
    "            result_json = json.loads(json_text)\n",
    "\n",
    "            ## Apply Pydantic Class\n",
    "            customer_data = CustomerData(**result_json)\n",
    "\n",
    "            ## Call (post_process_customer_data) for capitalizing\n",
    "            customer_data = post_process_customer_data(customer_data)\n",
    "            return customer_data\n",
    "            \n",
    "        except (json.JSONDecodeError, TypeError, ValueError) as e:\n",
    "            print(f'Failed to parse the structured data: {str(e)}')\n",
    "            return None\n",
    "    else:\n",
    "        print('JSON format not found in the output')\n",
    "        return None"
   ]
  },
  {
   "cell_type": "code",
   "execution_count": null,
   "metadata": {},
   "outputs": [],
   "source": [
    "## Sample of New data\n",
    "sample_text = \"\"\"\n",
    "Mohammed Agoor is a 27-year-old male from the Spain with a credit score of 700. He has been with the bank for 5 years, has a balance of 5000.0 USD, holds 2 products, owns a credit card, is an active member, and earns an estimated salary of 100000.0 USD.\n",
    "\"\"\"\n",
    "\n",
    "## Call the (extract_features) function\n",
    "structured_data = extract_features(text=sample_text)\n",
    "structured_data"
   ]
  },
  {
   "attachments": {},
   "cell_type": "markdown",
   "metadata": {},
   "source": [
    "---"
   ]
  }
 ],
 "metadata": {
  "kernelspec": {
   "display_name": "task",
   "language": "python",
   "name": "python3"
  },
  "language_info": {
   "codemirror_mode": {
    "name": "ipython",
    "version": 3
   },
   "file_extension": ".py",
   "mimetype": "text/x-python",
   "name": "python",
   "nbconvert_exporter": "python",
   "pygments_lexer": "ipython3",
   "version": "3.10.9"
  }
 },
 "nbformat": 4,
 "nbformat_minor": 2
}
